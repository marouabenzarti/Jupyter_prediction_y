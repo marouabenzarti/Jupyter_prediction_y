{
 "cells": [
  {
   "cell_type": "code",
   "execution_count": 1,
   "metadata": {
    "collapsed": true
   },
   "outputs": [],
   "source": [
    "#importations communes\n",
    "import pandas as pd\n",
    "import numpy as np\n",
    "import os\n",
    "# to make this notebook's output stable across runs\n",
    "np.random.seed(42)\n",
    "#For plot\n",
    "%matplotlib inline\n",
    "import matplotlib\n",
    "import matplotlib.pyplot as plt\n",
    "\n",
    "import h5py\n",
    "import scipy\n"
   ]
  },
  {
   "cell_type": "code",
   "execution_count": 2,
   "metadata": {
    "collapsed": true
   },
   "outputs": [],
   "source": [
    "# Loading the data \n",
    "train = pd.read_csv(\"train.csv\",  delimiter=';')\n",
    "test = pd.read_csv(\"test.csv\", delimiter=';')\n"
   ]
  },
  {
   "cell_type": "code",
   "execution_count": 3,
   "metadata": {},
   "outputs": [
    {
     "data": {
      "image/png": "[encoded data removed]",
      "text/plain": [
       "<matplotlib.figure.Figure at 0x2746f342f60>"
      ]
     },
     "metadata": {},
     "output_type": "display_data"
    }
   ],
   "source": [
    "# Make a histogram of all the output just to exlpore data\n",
    "plt.hist(train[\"Y\"])\n",
    "\n",
    "# Show the plot.\n",
    "plt.show()"
   ]
  },
  {
   "cell_type": "code",
   "execution_count": 4,
   "metadata": {},
   "outputs": [
    {
     "data": {
      "text/html": [
       "<div>\n",
       "<style>\n",
       "    .dataframe thead tr:only-child th {\n",
       "        text-align: right;\n",
       "    }\n",
       "\n",
       "    .dataframe thead th {\n",
       "        text-align: left;\n",
       "    }\n",
       "\n",
       "    .dataframe tbody tr th {\n",
       "        vertical-align: top;\n",
       "    }\n",
       "</style>\n",
       "<table border=\"1\" class=\"dataframe\">\n",
       "  <thead>\n",
       "    <tr style=\"text-align: right;\">\n",
       "      <th></th>\n",
       "      <th>X0</th>\n",
       "      <th>X1</th>\n",
       "      <th>X2</th>\n",
       "      <th>X3</th>\n",
       "      <th>X4</th>\n",
       "      <th>X5</th>\n",
       "      <th>X6</th>\n",
       "      <th>X7</th>\n",
       "      <th>X8</th>\n",
       "      <th>X9</th>\n",
       "      <th>X10</th>\n",
       "      <th>X11</th>\n",
       "      <th>X12</th>\n",
       "      <th>X13</th>\n",
       "      <th>Y</th>\n",
       "    </tr>\n",
       "  </thead>\n",
       "  <tbody>\n",
       "    <tr>\n",
       "      <th>0</th>\n",
       "      <td>39</td>\n",
       "      <td>NaN</td>\n",
       "      <td>77516</td>\n",
       "      <td>B2</td>\n",
       "      <td>NaN</td>\n",
       "      <td>N1</td>\n",
       "      <td>A3</td>\n",
       "      <td>NaN</td>\n",
       "      <td>W0</td>\n",
       "      <td>M0</td>\n",
       "      <td>2174</td>\n",
       "      <td>0.0</td>\n",
       "      <td>40.0</td>\n",
       "      <td>U0</td>\n",
       "      <td>0</td>\n",
       "    </tr>\n",
       "    <tr>\n",
       "      <th>1</th>\n",
       "      <td>50</td>\n",
       "      <td>S1</td>\n",
       "      <td>83311</td>\n",
       "      <td>B2</td>\n",
       "      <td>13.0</td>\n",
       "      <td>M0</td>\n",
       "      <td>E2</td>\n",
       "      <td>H0</td>\n",
       "      <td>W0</td>\n",
       "      <td>M0</td>\n",
       "      <td>0</td>\n",
       "      <td>0.0</td>\n",
       "      <td>13.0</td>\n",
       "      <td>U0</td>\n",
       "      <td>0</td>\n",
       "    </tr>\n",
       "    <tr>\n",
       "      <th>2</th>\n",
       "      <td>38</td>\n",
       "      <td>P0</td>\n",
       "      <td>215646</td>\n",
       "      <td>H0</td>\n",
       "      <td>9.0</td>\n",
       "      <td>D2</td>\n",
       "      <td>H8</td>\n",
       "      <td>N1</td>\n",
       "      <td>NaN</td>\n",
       "      <td>M0</td>\n",
       "      <td>0</td>\n",
       "      <td>0.0</td>\n",
       "      <td>40.0</td>\n",
       "      <td>U0</td>\n",
       "      <td>0</td>\n",
       "    </tr>\n",
       "    <tr>\n",
       "      <th>3</th>\n",
       "      <td>53</td>\n",
       "      <td>P0</td>\n",
       "      <td>234721</td>\n",
       "      <td>15</td>\n",
       "      <td>NaN</td>\n",
       "      <td>M0</td>\n",
       "      <td>H8</td>\n",
       "      <td>H0</td>\n",
       "      <td>B1</td>\n",
       "      <td>M0</td>\n",
       "      <td>0</td>\n",
       "      <td>NaN</td>\n",
       "      <td>NaN</td>\n",
       "      <td>U0</td>\n",
       "      <td>0</td>\n",
       "    </tr>\n",
       "    <tr>\n",
       "      <th>4</th>\n",
       "      <td>28</td>\n",
       "      <td>P0</td>\n",
       "      <td>338409</td>\n",
       "      <td>B2</td>\n",
       "      <td>13.0</td>\n",
       "      <td>M0</td>\n",
       "      <td>P0</td>\n",
       "      <td>NaN</td>\n",
       "      <td>B1</td>\n",
       "      <td>F1</td>\n",
       "      <td>0</td>\n",
       "      <td>0.0</td>\n",
       "      <td>40.0</td>\n",
       "      <td>C8</td>\n",
       "      <td>0</td>\n",
       "    </tr>\n",
       "  </tbody>\n",
       "</table>\n",
       "</div>"
      ],
      "text/plain": [
       "   X0   X1      X2  X3    X4  X5  X6   X7   X8  X9   X10  X11   X12 X13  Y\n",
       "0  39  NaN   77516  B2   NaN  N1  A3  NaN   W0  M0  2174  0.0  40.0  U0  0\n",
       "1  50   S1   83311  B2  13.0  M0  E2   H0   W0  M0     0  0.0  13.0  U0  0\n",
       "2  38   P0  215646  H0   9.0  D2  H8   N1  NaN  M0     0  0.0  40.0  U0  0\n",
       "3  53   P0  234721  15   NaN  M0  H8   H0   B1  M0     0  NaN   NaN  U0  0\n",
       "4  28   P0  338409  B2  13.0  M0  P0  NaN   B1  F1     0  0.0  40.0  C8  0"
      ]
     },
     "execution_count": 4,
     "metadata": {},
     "output_type": "execute_result"
    }
   ],
   "source": [
    "train.head()"
   ]
  },
  {
   "cell_type": "code",
   "execution_count": 5,
   "metadata": {},
   "outputs": [
    {
     "data": {
      "text/html": [
       "<div>\n",
       "<style>\n",
       "    .dataframe thead tr:only-child th {\n",
       "        text-align: right;\n",
       "    }\n",
       "\n",
       "    .dataframe thead th {\n",
       "        text-align: left;\n",
       "    }\n",
       "\n",
       "    .dataframe tbody tr th {\n",
       "        vertical-align: top;\n",
       "    }\n",
       "</style>\n",
       "<table border=\"1\" class=\"dataframe\">\n",
       "  <thead>\n",
       "    <tr style=\"text-align: right;\">\n",
       "      <th></th>\n",
       "      <th>X0</th>\n",
       "      <th>X2</th>\n",
       "      <th>X4</th>\n",
       "      <th>X10</th>\n",
       "      <th>X11</th>\n",
       "      <th>X12</th>\n",
       "    </tr>\n",
       "    <tr>\n",
       "      <th>Y</th>\n",
       "      <th></th>\n",
       "      <th></th>\n",
       "      <th></th>\n",
       "      <th></th>\n",
       "      <th></th>\n",
       "      <th></th>\n",
       "    </tr>\n",
       "  </thead>\n",
       "  <tbody>\n",
       "    <tr>\n",
       "      <th>0</th>\n",
       "      <td>36.783738</td>\n",
       "      <td>190340.86517</td>\n",
       "      <td>9.602799</td>\n",
       "      <td>148.752468</td>\n",
       "      <td>53.952218</td>\n",
       "      <td>38.823358</td>\n",
       "    </tr>\n",
       "    <tr>\n",
       "      <th>1</th>\n",
       "      <td>44.249841</td>\n",
       "      <td>188005.00000</td>\n",
       "      <td>11.605447</td>\n",
       "      <td>4006.142456</td>\n",
       "      <td>196.129860</td>\n",
       "      <td>45.412160</td>\n",
       "    </tr>\n",
       "  </tbody>\n",
       "</table>\n",
       "</div>"
      ],
      "text/plain": [
       "          X0            X2         X4          X10         X11        X12\n",
       "Y                                                                        \n",
       "0  36.783738  190340.86517   9.602799   148.752468   53.952218  38.823358\n",
       "1  44.249841  188005.00000  11.605447  4006.142456  196.129860  45.412160"
      ]
     },
     "execution_count": 5,
     "metadata": {},
     "output_type": "execute_result"
    }
   ],
   "source": [
    "train.groupby('Y').mean()\n"
   ]
  },
  {
   "cell_type": "code",
   "execution_count": 6,
   "metadata": {},
   "outputs": [
    {
     "name": "stdout",
     "output_type": "stream",
     "text": [
      "       X0   X1      X2   X3    X4  X5   X6   X7   X8   X9    X10     X11  \\\n",
      "0      39  NaN   77516   B2   NaN  N1   A3  NaN   W0   M0   2174     0.0   \n",
      "1      50   S1   83311   B2  13.0  M0   E2   H0   W0   M0      0     0.0   \n",
      "2      38   P0  215646   H0   9.0  D2   H8   N1  NaN   M0      0     0.0   \n",
      "3      53   P0  234721   15   NaN  M0   H8   H0   B1   M0      0     NaN   \n",
      "4      28   P0  338409   B2  13.0  M0   P0  NaN   B1   F1      0     0.0   \n",
      "5      37   P0  284582   M3  14.0  M0   E2   W4   W0  NaN      0     0.0   \n",
      "6      49   P0  160187  910   NaN  M5   O5  NaN   B1  NaN      0     0.0   \n",
      "7      52   S1  209642   H0   9.0  M0   E2   H0   W0   M0      0     0.0   \n",
      "8      31   P0   45781   M3  14.0  N1   P0   N1   W0  NaN  14084     0.0   \n",
      "9      42   P0  159449   B2  13.0  M0   E2   H0   W0   M0   5178     0.0   \n",
      "10     37   P0  280464   S1  10.0  M0   E2  NaN   B1  NaN      0     0.0   \n",
      "11     30   S3  141297   B2  13.0  M0   P0  NaN   A2  NaN      0     0.0   \n",
      "12     23   P0  122272   B2   NaN  N1   A3   O2  NaN   F1      0     0.0   \n",
      "13     32   P0  205019   A6  12.0  N1   S4   N1  NaN   M0      0     0.0   \n",
      "14     40   P0  121772   A4  11.0  M0   C1  NaN   A2   M0      0     0.0   \n",
      "15     34   P0  245487   78   NaN  M0   T7  NaN  NaN   M0      0     NaN   \n",
      "16     25   S1  176756   H0   9.0  N1   F9  NaN   W0   M0      0     0.0   \n",
      "17     32   P0  186824   H0   9.0  N1   M6   U3   W0   M0      0     0.0   \n",
      "18     38  NaN   28887   15   7.0  M0   S4   H0  NaN   M0      0     0.0   \n",
      "19     43  NaN  292175   M3   NaN  D2   E2  NaN   W0   F1      0     0.0   \n",
      "20     40   P0  193524  D12  16.0  M0   P0   H0   W0   M0      0     NaN   \n",
      "21     54   P0  302146   H0   NaN  S3   O5   U3   B1  NaN      0     0.0   \n",
      "22     35   F5   76845  910   5.0  M0   F9   H0   B1   M0      0     0.0   \n",
      "23     43   P0  117037   15   NaN  M0   T7   H0   W0   M0      0  2042.0   \n",
      "24     59   P0  109015   H0   9.0  D2  T10   U3   W0   F1      0     0.0   \n",
      "25     56   L2  216851   B2  13.0  M0  T10   H0   W0   M0      0     0.0   \n",
      "26     19   P0  168294   H0   9.0  N1   C1   O2  NaN   M0      0     0.0   \n",
      "27     54  NaN  180211   S1  10.0  M0  NaN   H0  NaN   M0      0     0.0   \n",
      "28     39   P0  367260   H0   NaN  D2   E2  NaN  NaN   M0      0     0.0   \n",
      "29     49   P0  193366   H0   9.0  M0   C1  NaN   W0   M0      0     0.0   \n",
      "...    ..  ...     ...  ...   ...  ..  ...  ...  ...  ...    ...     ...   \n",
      "32531  30  NaN   33811   B2  13.0  N1  NaN   N1   A2   F1      0     0.0   \n",
      "32532  34   P0  204461  D12  16.0  M0   P0  NaN   W0  NaN      0     0.0   \n",
      "32533  54   P0  337992   B2  13.0  M0   E2   H0   A2  NaN      0     0.0   \n",
      "32534  37  NaN  179137   S1  10.0  D2   A3   U3   W0  NaN      0     0.0   \n",
      "32535  22   P0  325033  111   NaN  N1  P11   O2   B1   M0      0     0.0   \n",
      "32536  34   P0  160216   B2  13.0  N1   E2   N1   W0   F1      0     0.0   \n",
      "32537  30   P0  345898   H0   9.0  N1   C1   N1  NaN  NaN      0     0.0   \n",
      "32538  38   P0  139180   B2  13.0  D2   P0  NaN  NaN  NaN  15020     0.0   \n",
      "32539  71  NaN  287372  D12  16.0  M0  NaN   H0   W0   M0      0     0.0   \n",
      "32540  45   S3  252208   H0   9.0  S3   A3   O2   W0   F1      0     0.0   \n",
      "32541  41  NaN  202822   H0   NaN  S3  NaN   N1   B1   F1      0     0.0   \n",
      "32542  72  NaN  129912   H0   9.0  M0  NaN   H0  NaN   M0      0     0.0   \n",
      "32543  45   L2  119199   A6  12.0  D2   P0   U3   W0   F1      0     0.0   \n",
      "32544  31   P0  199655   M3  14.0  D2   O5   N1   O4   F1      0     0.0   \n",
      "32545  39   L2  111499   A6  12.0  M0   A3   W4   W0   F1      0     0.0   \n",
      "32546  37   P0  198216   A6  12.0  D2  T10  NaN  NaN   F1      0     0.0   \n",
      "32547  43   P0  260761   H0   9.0  M0   M6  NaN   W0   M0      0     0.0   \n",
      "32548  65   S1   99359   P9  15.0  N1   P0   N1   W0   M0   1086     0.0   \n",
      "32549  43   S3  255835   S1   NaN  D2   A3   O5   W0  NaN      0     0.0   \n",
      "32550  43   S1   27242   S1  10.0  M0   C1  NaN   W0   M0      0     0.0   \n",
      "32551  32   P0   34066   17   6.0  M0   H8   H0   A3   M0      0     0.0   \n",
      "32552  43   P0   84661   A4   NaN  M0   S4   H0   W0   M0      0     0.0   \n",
      "32553  32   P0  116138   M3   NaN  N1  T10   N1   A2   M0      0     0.0   \n",
      "32554  53   P0  321865   M3  14.0  M0   E2   H0   W0   M0      0     0.0   \n",
      "32555  22   P0  310152   S1  10.0  N1  P11   N1  NaN   M0      0     0.0   \n",
      "32556  27   P0  257302   A6  12.0  M0  T10  NaN   W0   F1      0     0.0   \n",
      "32557  40   P0  154374   H0   9.0  M0   M6   H0   W0  NaN      0     0.0   \n",
      "32558  58   P0  151910   H0   9.0  W4   A3   U3   W0   F1      0     0.0   \n",
      "32559  22   P0  201490   H0   NaN  N1   A3   O2   W0   M0      0     0.0   \n",
      "32560  52   S4  287927   H0   9.0  M0   E2   W4  NaN   F1  15024     0.0   \n",
      "\n",
      "        X12  X13  \n",
      "0      40.0   U0  \n",
      "1      13.0   U0  \n",
      "2      40.0   U0  \n",
      "3       NaN   U0  \n",
      "4      40.0   C8  \n",
      "5      40.0   U0  \n",
      "6       NaN  J10  \n",
      "7      45.0   U0  \n",
      "8      50.0   U0  \n",
      "9      40.0   U0  \n",
      "10     80.0   U0  \n",
      "11     40.0   I7  \n",
      "12      NaN   U0  \n",
      "13     50.0   U0  \n",
      "14     40.0  NaN  \n",
      "15     45.0   M1  \n",
      "16     35.0   U0  \n",
      "17     40.0   U0  \n",
      "18      NaN   U0  \n",
      "19      NaN   U0  \n",
      "20     60.0   U0  \n",
      "21     20.0   U0  \n",
      "22     40.0   U0  \n",
      "23     40.0   U0  \n",
      "24     40.0   U0  \n",
      "25     40.0   U0  \n",
      "26      NaN   U0  \n",
      "27     60.0  S11  \n",
      "28      NaN   U0  \n",
      "29     40.0   U0  \n",
      "...     ...  ...  \n",
      "32531  99.0   U0  \n",
      "32532  60.0   U0  \n",
      "32533  50.0  J17  \n",
      "32534  39.0   U0  \n",
      "32535  35.0   U0  \n",
      "32536  55.0   U0  \n",
      "32537  46.0   U0  \n",
      "32538  45.0   U0  \n",
      "32539  10.0   U0  \n",
      "32540   NaN   U0  \n",
      "32541   NaN   U0  \n",
      "32542   NaN   U0  \n",
      "32543  48.0   U0  \n",
      "32544   NaN   U0  \n",
      "32545  20.0   U0  \n",
      "32546   NaN   U0  \n",
      "32547  40.0   M1  \n",
      "32548  60.0   U0  \n",
      "32549  40.0   U0  \n",
      "32550  50.0   U0  \n",
      "32551  40.0   U0  \n",
      "32552   NaN   U0  \n",
      "32553  11.0  T20  \n",
      "32554  40.0   U0  \n",
      "32555  40.0   U0  \n",
      "32556   NaN   U0  \n",
      "32557   NaN   U0  \n",
      "32558  40.0   U0  \n",
      "32559   NaN   U0  \n",
      "32560  40.0   U0  \n",
      "\n",
      "[32561 rows x 14 columns]\n"
     ]
    }
   ],
   "source": [
    "features = train.drop('Y', axis=1)\n",
    "print(features)\n"
   ]
  },
  {
   "cell_type": "code",
   "execution_count": 7,
   "metadata": {
    "collapsed": true
   },
   "outputs": [],
   "source": [
    "#from sklearn.cross_validation import train_test_split\n",
    "from sklearn.model_selection import train_test_split\n",
    "train, test_test = train_test_split(train, test_size=0.3)"
   ]
  },
  {
   "cell_type": "code",
   "execution_count": 8,
   "metadata": {},
   "outputs": [
    {
     "name": "stdout",
     "output_type": "stream",
     "text": [
      "       X0  X1      X2  X3    X4  X5  X6  X7  X8  X9   X10  X11   X12  X13  Y\n",
      "1216   48   5  243631  15   0.0   1   3   1   2   0  7688  0.0   0.0   39  1\n",
      "27962  23   0   56402  15  10.0   1   9   1   5   2     0  0.0   0.0   39  0\n",
      "23077  56   2  255406  11   9.0   0   4   2   5   1     0  0.0  40.0   39  0\n",
      "10180  17   4  297246   2   7.0   4  11   3   5   1     0  0.0   0.0   39  0\n",
      "12681  34   4  152453   0   8.0   1   3   1   5   0     0  0.0   0.0   11  0\n",
      "31752  37   4  140673  15  10.0   1  12   6   0   0     0  0.0  40.0   39  1\n",
      "17581  49   5  162856  15  10.0   0   4   2   0   0     0  0.0  40.0   39  0\n",
      "31033  55   4  132887  11   9.0   1  14   1   0   2  3411  0.0  40.0   23  0\n",
      "9144   25   4  131463   9  13.0   1   9   1   5   2     0  0.0  40.0   39  0\n",
      "26971  38   4  255621  11   9.0   1   8   1   5   2     0  0.0  40.0   39  0\n",
      "4907   37   4   38468  15  10.0   4   2   2   0   1     0  0.0  40.0   39  0\n",
      "13308  45   4   88500  15  10.0   1   7   1   5   2     0  0.0  44.0   39  1\n",
      "14737  51   2   26832  11   9.0   1   3   1   5   0     0  0.0  40.0   39  1\n",
      "13857  47   4   52795  15  10.0   1   7   0   5   0     0  0.0  46.0   39  0\n",
      "5116   34   4  314646   6   5.0   1   3   1   5   2     0  0.0  40.0   39  0\n",
      "16664  27   2  322208  15  10.0   4  14   3   5   2     0  0.0   0.0   39  0\n",
      "25043  45   4  140644  11   9.0   1   7   1   5   2     0  0.0   0.0   39  0\n",
      "8648   21   4   73679  15   0.0   4   4   0   5   1     0  0.0  40.0   39  0\n",
      "10755  23   4   85088  15  10.0   4   8   3   5   0     0  0.0  37.0   39  0\n"
     ]
    }
   ],
   "source": [
    "'''data strings to value'''\n",
    "from sklearn import preprocessing\n",
    "for col in train.columns:\n",
    "    if train.dtypes[col] == \"object\" :\n",
    "            le = preprocessing.LabelEncoder()\n",
    "            le.fit(train[col].fillna(\"\"))\n",
    "            train[col] = le.transform(train[col].fillna(\"\"))\n",
    "    else:\n",
    "            train[col] = train[col].fillna(0)\n",
    "print(train[1:20])\n",
    "\n"
   ]
  },
  {
   "cell_type": "code",
   "execution_count": 9,
   "metadata": {},
   "outputs": [
    {
     "name": "stdout",
     "output_type": "stream",
     "text": [
      "    X0  X1      X2  X3    X4  X5  X6  X7  X8  X9   X10  X11   X12  X13\n",
      "1   38   4   89814  11   9.0   1   5   1   0   2     0  0.0   0.0   38\n",
      "2   28   2  336951   8  12.0   1  10   1   0   2     0  0.0  40.0   38\n",
      "3   44   4  160323  15  10.0   1   7   1   3   2  7688  0.0  40.0   38\n",
      "4   18   0  103497  15  10.0   4   0   3   5   1     0  0.0   0.0   38\n",
      "5   34   4  198693   3   6.0   4   8   2   0   2     0  0.0  30.0   38\n",
      "6   29   0  227026  11   9.0   4   0   5   0   2     0  0.0   0.0   38\n",
      "7   63   5  104626  14  15.0   1   9   1   5   2  3103  0.0  32.0   38\n",
      "8   24   4  369667  15  10.0   4   8   5   5   0     0  0.0   0.0   38\n",
      "9   55   4  104996   5   0.0   1   3   1   5   2     0  0.0  10.0   38\n",
      "10  65   4  184454  11   9.0   1   7   1   5   2  6418  0.0  40.0   38\n",
      "11  36   1  212465   9  13.0   1   2   1   5   0     0  0.0  40.0   38\n",
      "12  26   4   82091  11   9.0   4   2   2   5   1     0  0.0  39.0   38\n",
      "13  58   0  299831  11   9.0   1   0   1   0   2     0  0.0  35.0   38\n",
      "14  48   4  279724  11   9.0   1   7   1   5   2  3103  0.0  48.0   38\n",
      "15  43   4  346189  12  14.0   1   4   0   0   2     0  0.0  50.0   38\n",
      "16  20   6  444554  15  10.0   4   8   3   0   2     0  0.0   0.0   38\n",
      "17  43   4  128354  11   9.0   1   2   6   5   1     0  0.0  30.0   38\n",
      "18  37   4   60548  11   0.0   6   7   5   0   1     0  0.0  20.0   38\n",
      "19  40   4   85019  10  16.0   1   9   1   1   0     0  0.0   0.0    0\n"
     ]
    }
   ],
   "source": [
    "'''same; data strings to value'''\n",
    "for col in test.columns:\n",
    "    if test.dtypes[col] == \"object\" :\n",
    "            le = preprocessing.LabelEncoder()\n",
    "            le.fit(test[col].fillna(\"\"))\n",
    "            test[col] = le.transform(test[col].fillna(\"\"))\n",
    "    else:\n",
    "            test[col] = test[col].fillna(0)\n",
    "print(test[1:20])"
   ]
  },
  {
   "cell_type": "code",
   "execution_count": 10,
   "metadata": {},
   "outputs": [
    {
     "name": "stdout",
     "output_type": "stream",
     "text": [
      "       X0  X1      X2  X3    X4  X5  X6  X7  X8  X9    X10  X11   X12  X13  Y\n",
      "27048  45   5   50567  11   9.0   1   4   6   5   0      0  0.0  40.0   38  0\n",
      "28868  29   3  185908   9   0.0   1   4   1   3   2      0  0.0  55.0   38  1\n",
      "5667   30   0  190040   9   0.0   4   7   2   0   1      0  0.0  40.0   38  0\n",
      "7827   29   4  189346  15   0.0   0   3   0   5   2   2202  0.0  50.0   38  0\n",
      "15382  51   3  108435  12  14.0   1   9   0   0   2      0  0.0  47.0   38  1\n",
      "4641   58   4   93664  11   9.0   1   4   0   5   2  15024  0.0   0.0   38  1\n",
      "8943   22   3  148431  11   9.0   4   2   2   4   1      0  0.0  40.0   38  0\n",
      "216    50   3  313321   8  12.0   0  12   2   5   1      0  0.0  40.0   38  0\n",
      "5121   50   3   71417  11   9.0   1   3   1   5   2   3103  0.0  40.0   38  1\n",
      "345    43   4  241895   9  13.0   4  12   2   5   2      0  0.0   0.0   38  0\n",
      "31900  37   3  271013  11   9.0   0   6   2   0   2      0  0.0  40.0   38  0\n",
      "20010  41   3  152529   9  13.0   4   9   0   5   0      0  0.0  40.0   38  1\n",
      "11808  46   0  116952   5   4.0   1   9   6   5   0      0  0.0  45.0   38  0\n",
      "14587  33   3  226629  15   0.0   1   8   6   5   1      0  0.0  35.0   38  0\n",
      "10021  45   3  161819   2   7.0   5   2   5   3   1      0  0.0  25.0   38  0\n",
      "8966   43   3   99212   7   0.0   1   4   1   5   2   3103  0.0   0.0   38  1\n",
      "1912   52   6  179951  14  15.0   1   4   1   5   2      0  0.0   0.0   38  0\n",
      "2874   38   0  115433   8   0.0   1   2   6   5   1   7688  0.0   0.0   38  1\n",
      "28771  32   0  267161   9  13.0   0   4   5   3   1      0  0.0  30.0   38  0\n"
     ]
    }
   ],
   "source": [
    "'''same; data strings to value'''\n",
    "\n",
    "for col in test_test.columns:\n",
    "    if test_test.dtypes[col] == \"object\" :\n",
    "            le = preprocessing.LabelEncoder()\n",
    "            le.fit(test_test[col].fillna(\"\"))\n",
    "            test_test[col] = le.transform(test_test[col].fillna(\"\"))\n",
    "    else:\n",
    "            test_test[col] = test_test[col].fillna(0)\n",
    "print(test_test[1:20])"
   ]
  },
  {
   "cell_type": "code",
   "execution_count": 11,
   "metadata": {},
   "outputs": [
    {
     "name": "stdout",
     "output_type": "stream",
     "text": [
      "hello\n"
     ]
    }
   ],
   "source": [
    "#classification problem, I will use several algorithms to train the data and choose the one which fits better\n",
    "#Trying support vector machine machine algorithm here\n",
    "#print('hello')\n",
    "test_test_features = test_test.drop('Y', axis=1)\n",
    "from sklearn import svm\n",
    "#train = train[1:100] #pour alléger l'exécution, pour que ça prenne moins de temps\n",
    "clf = svm.SVC() #By convention, clf means 'Classifier\n",
    "\n",
    "clf.fit(train.drop('Y', axis=1),train['Y'])\n",
    "predictions5= clf.predict(test_test_features)\n",
    "p = pd.Series(predictions5)"
   ]
  },
  {
   "cell_type": "code",
   "execution_count": 12,
   "metadata": {},
   "outputs": [
    {
     "data": {
      "text/html": [
       "<div>\n",
       "<style>\n",
       "    .dataframe thead tr:only-child th {\n",
       "        text-align: right;\n",
       "    }\n",
       "\n",
       "    .dataframe thead th {\n",
       "        text-align: left;\n",
       "    }\n",
       "\n",
       "    .dataframe tbody tr th {\n",
       "        vertical-align: top;\n",
       "    }\n",
       "</style>\n",
       "<table border=\"1\" class=\"dataframe\">\n",
       "  <thead>\n",
       "    <tr style=\"text-align: right;\">\n",
       "      <th>Predicted values</th>\n",
       "      <th>0.0</th>\n",
       "      <th>1.0</th>\n",
       "    </tr>\n",
       "    <tr>\n",
       "      <th>Actual values</th>\n",
       "      <th></th>\n",
       "      <th></th>\n",
       "    </tr>\n",
       "  </thead>\n",
       "  <tbody>\n",
       "    <tr>\n",
       "      <th>0.0</th>\n",
       "      <td>2244</td>\n",
       "      <td>1</td>\n",
       "    </tr>\n",
       "    <tr>\n",
       "      <th>1.0</th>\n",
       "      <td>702</td>\n",
       "      <td>0</td>\n",
       "    </tr>\n",
       "  </tbody>\n",
       "</table>\n",
       "</div>"
      ],
      "text/plain": [
       "Predicted values   0.0  1.0\n",
       "Actual values              \n",
       "0.0               2244    1\n",
       "1.0                702    0"
      ]
     },
     "execution_count": 12,
     "metadata": {},
     "output_type": "execute_result"
    }
   ],
   "source": [
    "# Create confusion matrix for svm algorithm \n",
    "pd.crosstab(test_test['Y'], p , rownames=['Actual values'], colnames=['Predicted values'])"
   ]
  },
  {
   "cell_type": "code",
   "execution_count": 13,
   "metadata": {},
   "outputs": [
    {
     "data": {
      "text/plain": [
       "RandomForestClassifier(bootstrap=True, class_weight=None, criterion='gini',\n",
       "            max_depth=None, max_features='auto', max_leaf_nodes=None,\n",
       "            min_impurity_decrease=0.0, min_impurity_split=None,\n",
       "            min_samples_leaf=1, min_samples_split=2,\n",
       "            min_weight_fraction_leaf=0.0, n_estimators=10, n_jobs=2,\n",
       "            oob_score=False, random_state=0, verbose=0, warm_start=False)"
      ]
     },
     "execution_count": 13,
     "metadata": {},
     "output_type": "execute_result"
    }
   ],
   "source": [
    "# Load scikit's random forest classifier library\n",
    "from sklearn.ensemble import RandomForestClassifier\n",
    "\n",
    "# Create a random forest Classifier. '\n",
    "clf2 = RandomForestClassifier(n_jobs=2, random_state=0)\n",
    "\n",
    "# Train the Classifier to take the training features and learn how they relate to Y \n",
    "\n",
    "\n",
    "clf2.fit(train.drop('Y', axis=1),train['Y']) "
   ]
  },
  {
   "cell_type": "code",
   "execution_count": 14,
   "metadata": {},
   "outputs": [
    {
     "name": "stdout",
     "output_type": "stream",
     "text": [
      "[0 0 0 ..., 0 1 1]\n"
     ]
    }
   ],
   "source": [
    "#make predictions\n",
    "predictions0= clf2.predict(test_test_features)\n",
    "#p = clf2.predict(test)\n",
    "print (predictions0)\n",
    "x0 = pd.Series(predictions0)\n"
   ]
  },
  {
   "cell_type": "code",
   "execution_count": 15,
   "metadata": {},
   "outputs": [
    {
     "data": {
      "text/html": [
       "<div>\n",
       "<style>\n",
       "    .dataframe thead tr:only-child th {\n",
       "        text-align: right;\n",
       "    }\n",
       "\n",
       "    .dataframe thead th {\n",
       "        text-align: left;\n",
       "    }\n",
       "\n",
       "    .dataframe tbody tr th {\n",
       "        vertical-align: top;\n",
       "    }\n",
       "</style>\n",
       "<table border=\"1\" class=\"dataframe\">\n",
       "  <thead>\n",
       "    <tr style=\"text-align: right;\">\n",
       "      <th>Predicted values</th>\n",
       "      <th>0.0</th>\n",
       "      <th>1.0</th>\n",
       "    </tr>\n",
       "    <tr>\n",
       "      <th>Actual values</th>\n",
       "      <th></th>\n",
       "      <th></th>\n",
       "    </tr>\n",
       "  </thead>\n",
       "  <tbody>\n",
       "    <tr>\n",
       "      <th>0.0</th>\n",
       "      <td>1851</td>\n",
       "      <td>394</td>\n",
       "    </tr>\n",
       "    <tr>\n",
       "      <th>1.0</th>\n",
       "      <td>588</td>\n",
       "      <td>114</td>\n",
       "    </tr>\n",
       "  </tbody>\n",
       "</table>\n",
       "</div>"
      ],
      "text/plain": [
       "Predicted values   0.0  1.0\n",
       "Actual values              \n",
       "0.0               1851  394\n",
       "1.0                588  114"
      ]
     },
     "execution_count": 15,
     "metadata": {},
     "output_type": "execute_result"
    }
   ],
   "source": [
    "# Create confusion matrix\n",
    "pd.crosstab(test_test['Y'], x0 , rownames=['Actual values'], colnames=['Predicted values'])"
   ]
  },
  {
   "cell_type": "code",
   "execution_count": 16,
   "metadata": {},
   "outputs": [
    {
     "data": {
      "text/plain": [
       "LogisticRegression(C=1.0, class_weight=None, dual=False, fit_intercept=True,\n",
       "          intercept_scaling=1, max_iter=100, multi_class='ovr', n_jobs=1,\n",
       "          penalty='l2', random_state=None, solver='liblinear', tol=0.0001,\n",
       "          verbose=0, warm_start=False)"
      ]
     },
     "execution_count": 16,
     "metadata": {},
     "output_type": "execute_result"
    }
   ],
   "source": [
    "#Trying logistic regression algorithm\n",
    "from sklearn.linear_model import LogisticRegression\n",
    "\n",
    "clf3 = LogisticRegression()\n",
    "clf3.fit(train.drop('Y', axis=1),train['Y'])\n"
   ]
  },
  {
   "cell_type": "code",
   "execution_count": 17,
   "metadata": {},
   "outputs": [
    {
     "name": "stdout",
     "output_type": "stream",
     "text": [
      "[0 0 0 ..., 0 0 1]\n"
     ]
    },
    {
     "data": {
      "text/html": [
       "<div>\n",
       "<style>\n",
       "    .dataframe thead tr:only-child th {\n",
       "        text-align: right;\n",
       "    }\n",
       "\n",
       "    .dataframe thead th {\n",
       "        text-align: left;\n",
       "    }\n",
       "\n",
       "    .dataframe tbody tr th {\n",
       "        vertical-align: top;\n",
       "    }\n",
       "</style>\n",
       "<table border=\"1\" class=\"dataframe\">\n",
       "  <thead>\n",
       "    <tr style=\"text-align: right;\">\n",
       "      <th>Predicted values</th>\n",
       "      <th>0.0</th>\n",
       "      <th>1.0</th>\n",
       "    </tr>\n",
       "    <tr>\n",
       "      <th>Actual values</th>\n",
       "      <th></th>\n",
       "      <th></th>\n",
       "    </tr>\n",
       "  </thead>\n",
       "  <tbody>\n",
       "    <tr>\n",
       "      <th>0.0</th>\n",
       "      <td>1851</td>\n",
       "      <td>394</td>\n",
       "    </tr>\n",
       "    <tr>\n",
       "      <th>1.0</th>\n",
       "      <td>588</td>\n",
       "      <td>114</td>\n",
       "    </tr>\n",
       "  </tbody>\n",
       "</table>\n",
       "</div>"
      ],
      "text/plain": [
       "Predicted values   0.0  1.0\n",
       "Actual values              \n",
       "0.0               1851  394\n",
       "1.0                588  114"
      ]
     },
     "execution_count": 17,
     "metadata": {},
     "output_type": "execute_result"
    }
   ],
   "source": [
    "#make predictions using logistic regression classifier\n",
    "predictions3= clf3.predict(test_test_features)\n",
    "print (predictions3)\n",
    "x3 = pd.Series(predictions0)\n",
    "# Create confusion matrix\n",
    "pd.crosstab(test_test['Y'], x3 , rownames=['Actual values'], colnames=['Predicted values'])"
   ]
  },
  {
   "cell_type": "code",
   "execution_count": 18,
   "metadata": {},
   "outputs": [
    {
     "name": "stdout",
     "output_type": "stream",
     "text": [
      "precision: [ 0.76318214  0.5       ]\n",
      "recall: [  9.99865862e-01   4.32152118e-04]\n",
      "fscore: [  8.65636976e-01   8.63557858e-04]\n",
      "support: [7455 2314]\n",
      "Average precision-recall score: 0.24\n"
     ]
    }
   ],
   "source": [
    "#compute precision, recall to evaluate model for svm\n",
    "from sklearn.metrics import precision_recall_fscore_support as score\n",
    "\n",
    "from sklearn.metrics import average_precision_score\n",
    "predicted = p\n",
    "y_test = test_test['Y']\n",
    "\n",
    "precision, recall, fscore, support = score(y_test, predicted)\n",
    "\n",
    "print('precision: {}'.format(precision))\n",
    "print('recall: {}'.format(recall))\n",
    "print('fscore: {}'.format(fscore))\n",
    "print('support: {}'.format(support))\n",
    "\n",
    "average_precision = average_precision_score(y_test, predicted)\n",
    "\n",
    "print('Average precision-recall score: {0:0.2f}'.format(\n",
    "      average_precision))"
   ]
  },
  {
   "cell_type": "code",
   "execution_count": 19,
   "metadata": {},
   "outputs": [
    {
     "name": "stdout",
     "output_type": "stream",
     "text": [
      "precision: [ 0.86870816  0.73693482]\n",
      "recall: [ 0.9399061   0.54235091]\n",
      "fscore: [ 0.90290574  0.62484441]\n",
      "support: [7455 2314]\n",
      "Average precision-recall score: 0.51\n"
     ]
    }
   ],
   "source": [
    "#compute precision, recall to evaluate model for random forest algorithm\n",
    "from sklearn.metrics import precision_recall_fscore_support as score\n",
    "\n",
    "from sklearn.metrics import average_precision_score\n",
    "predicted = x0\n",
    "y_test = test_test['Y']\n",
    "\n",
    "precision, recall, fscore, support = score(y_test, predicted)\n",
    "\n",
    "print('precision: {}'.format(precision))\n",
    "print('recall: {}'.format(recall))\n",
    "print('fscore: {}'.format(fscore))\n",
    "print('support: {}'.format(support))\n",
    "\n",
    "average_precision = average_precision_score(y_test, predicted)\n",
    "\n",
    "print('Average precision-recall score: {0:0.2f}'.format(\n",
    "      average_precision))"
   ]
  },
  {
   "cell_type": "code",
   "execution_count": 20,
   "metadata": {},
   "outputs": [
    {
     "name": "stdout",
     "output_type": "stream",
     "text": [
      "precision: [ 0.86870816  0.73693482]\n",
      "recall: [ 0.9399061   0.54235091]\n",
      "fscore: [ 0.90290574  0.62484441]\n",
      "support: [7455 2314]\n",
      "Average precision-recall score: 0.51\n"
     ]
    }
   ],
   "source": [
    "#compute precision, recall to evaluate model for logistic regression algorithm\n",
    "\n",
    "from sklearn.metrics import precision_recall_fscore_support as score\n",
    "\n",
    "from sklearn.metrics import average_precision_score\n",
    "predicted = x3\n",
    "y_test = test_test['Y']\n",
    "\n",
    "precision, recall, fscore, support = score(y_test, predicted)\n",
    "\n",
    "print('precision: {}'.format(precision))\n",
    "print('recall: {}'.format(recall))\n",
    "print('fscore: {}'.format(fscore))\n",
    "print('support: {}'.format(support))\n",
    "\n",
    "average_precision = average_precision_score(y_test, predicted)\n",
    "\n",
    "print('Average precision-recall score: {0:0.2f}'.format(\n",
    "      average_precision))"
   ]
  },
  {
   "cell_type": "code",
   "execution_count": 21,
   "metadata": {},
   "outputs": [
    {
     "name": "stdout",
     "output_type": "stream",
     "text": [
      "[0 0 0 ..., 0 0 0]\n"
     ]
    }
   ],
   "source": [
    "##compute neural network algorithm \n",
    "\n",
    "from sklearn.neural_network import MLPClassifier\n",
    "\n",
    "clf4 = MLPClassifier(solver='lbfgs', alpha=1e-4, hidden_layer_sizes=(10, 3), random_state=1)\n",
    "clf4.fit(train.drop('Y', axis=1), train['Y'])  \n",
    "\n",
    "predictions4 = clf4.predict(test_test_features)\n",
    "\n",
    "print (predictions4)\n",
    "x4 = pd.Series(predictions4)\n",
    "\n"
   ]
  },
  {
   "cell_type": "code",
   "execution_count": 22,
   "metadata": {},
   "outputs": [
    {
     "name": "stdout",
     "output_type": "stream",
     "text": [
      "precision: [ 0.76312826  0.        ]\n",
      "recall: [ 1.  0.]\n",
      "fscore: [ 0.86565258  0.        ]\n",
      "support: [7455 2314]\n",
      "Average precision-recall score: 0.24\n"
     ]
    },
    {
     "name": "stderr",
     "output_type": "stream",
     "text": [
      "C:\\Users\\Maroua\\Anaconda3\\lib\\site-packages\\sklearn\\metrics\\classification.py:1135: UndefinedMetricWarning: Precision and F-score are ill-defined and being set to 0.0 in labels with no predicted samples.\n",
      "  'precision', 'predicted', average, warn_for)\n"
     ]
    }
   ],
   "source": [
    "#compute precision, recall to evaluate model for neural network algorithm \n",
    "\n",
    "from sklearn.metrics import precision_recall_fscore_support as score\n",
    "\n",
    "from sklearn.metrics import average_precision_score\n",
    "predicted = x4\n",
    "y_test = test_test['Y']\n",
    "\n",
    "precision, recall, fscore, support = score(y_test, predicted)\n",
    "\n",
    "print('precision: {}'.format(precision))\n",
    "print('recall: {}'.format(recall))\n",
    "print('fscore: {}'.format(fscore))\n",
    "print('support: {}'.format(support))\n",
    "\n",
    "average_precision = average_precision_score(y_test, predicted)\n",
    "\n",
    "print('Average precision-recall score: {0:0.2f}'.format(\n",
    "      average_precision))"
   ]
  },
  {
   "cell_type": "code",
   "execution_count": 23,
   "metadata": {},
   "outputs": [
    {
     "name": "stdout",
     "output_type": "stream",
     "text": [
      "0        0\n",
      "1        0\n",
      "2        0\n",
      "3        1\n",
      "4        0\n",
      "5        0\n",
      "6        0\n",
      "7        1\n",
      "8        0\n",
      "9        0\n",
      "10       1\n",
      "11       0\n",
      "12       0\n",
      "13       0\n",
      "14       0\n",
      "15       0\n",
      "16       0\n",
      "17       0\n",
      "18       0\n",
      "19       1\n",
      "20       0\n",
      "21       0\n",
      "22       0\n",
      "23       0\n",
      "24       0\n",
      "25       1\n",
      "26       0\n",
      "27       0\n",
      "28       0\n",
      "29       0\n",
      "        ..\n",
      "16251    1\n",
      "16252    1\n",
      "16253    0\n",
      "16254    0\n",
      "16255    0\n",
      "16256    0\n",
      "16257    0\n",
      "16258    0\n",
      "16259    0\n",
      "16260    0\n",
      "16261    1\n",
      "16262    0\n",
      "16263    0\n",
      "16264    0\n",
      "16265    1\n",
      "16266    0\n",
      "16267    0\n",
      "16268    0\n",
      "16269    0\n",
      "16270    0\n",
      "16271    0\n",
      "16272    0\n",
      "16273    0\n",
      "16274    0\n",
      "16275    0\n",
      "16276    0\n",
      "16277    0\n",
      "16278    0\n",
      "16279    1\n",
      "16280    0\n",
      "Name: Y, Length: 16281, dtype: int64\n"
     ]
    }
   ],
   "source": [
    "#I chose to compute with logistic regression  \n",
    "predictions_test_set= clf3.predict(test)\n",
    "\n",
    "x5= pd.Series(predictions_test_set)\n",
    "test = pd.concat([test, x5.rename(\"Y\")], axis=1)\n",
    "print (test['Y'])\n"
   ]
  }
 ],
 "metadata": {
  "kernelspec": {
   "display_name": "Python 3",
   "language": "python",
   "name": "python3"
  },
  "language_info": {
   "codemirror_mode": {
    "name": "ipython",
    "version": 3
   },
   "file_extension": ".py",
   "mimetype": "text/x-python",
   "name": "python",
   "nbconvert_exporter": "python",
   "pygments_lexer": "ipython3",
   "version": "3.6.3"
  }
 },
 "nbformat": 4,
 "nbformat_minor": 2
}
